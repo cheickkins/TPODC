{
 "cells": [
  {
   "cell_type": "code",
   "execution_count": 2,
   "id": "7d26a176",
   "metadata": {},
   "outputs": [],
   "source": [
    "import pandas as pd\n",
    "from pandas.errors import ParserError\n",
    "import matplotlib.pyplot as plt"
   ]
  },
  {
   "cell_type": "code",
   "execution_count": 3,
   "id": "bf3b1d29",
   "metadata": {},
   "outputs": [],
   "source": [
    "class Tpoo():\n",
    "    \n",
    "    \n",
    "    def __init__(self,path):\n",
    "        \n",
    "        try:\n",
    "            self.data = pd.read_csv(path,sep=';')\n",
    "        except ParserError:\n",
    "             self.data = pd.read_csv(path,sep=',')\n",
    "    \n",
    "    def All_da(self):\n",
    "        #Grouper les modules par nombre d'actor\n",
    "        serieNbActor = pd.Series(self.data.groupby('object_id').actor.nunique()).rename('NbActor')\n",
    "#Grouper par module en precisant le nombre de cession\n",
    "        serieNbCession = pd.Series(self.data.groupby('object_id').session_uuid.count()).rename('NbCession')\n",
    "##Grouper les modules par score maximum\n",
    "        serieMaxScore = pd.Series(self.data.groupby('object_id').score.max()).rename('MaxScore')\n",
    "#Grouper les modules par score minimum\n",
    "        serieMinScore = pd.Series(self.data.groupby('object_id').score.min()).rename('MinScore')\n",
    "#Grouper les modules par score >= 50\n",
    "        serieNbActor50 = self.data[(self.data['score'] >= 50)].groupby(['object_id']).actor.nunique().rename('NbActor50')\n",
    "#Calcul du taux de reussite\n",
    "        serieTauxReussite = (serieNbActor50/serieNbActor)*100\n",
    "        serieTauxReussite =serieTauxReussite.rename('TauxReussite')\n",
    "#Concatenation des resultats ci-dessus\n",
    "        resultatFinal = pd.concat([serieNbActor,serieNbCession,serieMinScore,serieMaxScore,serieTauxReussite],axis=1)\n",
    "#Trier le resultat final par ordre decroissante\n",
    "        resultatFinalTout = resultatFinal.sort_values(by=['TauxReussite'],ascending=False)\n",
    "        resultatFinalTout.TauxReussite = resultatFinalTout.TauxReussite.fillna(0)\n",
    "        self.res = resultatFinalTout\n",
    "        return resultatFinalTout\n",
    "    \n",
    "    \n",
    "    def Top_mod(self,nb):\n",
    "        \n",
    "        self.All_da()\n",
    "        resultatFinalTop10 = self.res.head(nb)\n",
    "        return resultatFinalTop10\n",
    "    \n",
    "#import numpy as np\n",
    "\n",
    "    def To_nump(self,dat):\n",
    "        \n",
    "        resultatFinalTop10Numpy = dat.to_numpy()\n",
    "        return resultatFinalTop10Numpy\n",
    "\n",
    "    def Mod_aff(self,df2,x):\n",
    "        nbCessionActorTop = self.data[(self.data['object_id'] == df2.index[x] )].groupby('actor').session_uuid.count().rename('NbCession')\n",
    "        nbTempsActorTop = round(self.data[(self.data['object_id'] == df2.index[x] )].groupby('actor').temps.sum().rename('NbTemp')/60,2)\n",
    "        nbScoreActorTop = self.data[(self.data['object_id'] == df2.index[x])].groupby('actor').score.max().rename('NbScore')\n",
    "\n",
    "        data2Top = pd.concat([nbCessionActorTop,nbTempsActorTop,nbScoreActorTop], axis = 1)\n",
    "#Création et attribution du resultat final de chaque apprenant\n",
    "        data2Top = data2Top.assign(ResultatFinal=0)\n",
    "        data2Top.loc[data2Top['NbScore'] >= 50, 'ResultatFinal'] = 1\n",
    "        print(\"module :\",df2.index[x])\n",
    "        return data2Top\n",
    "\n",
    "    \n",
    "    def Graph(self,t):\n",
    "        plt.figure(figsize=(15,10))\n",
    "        for i in range(len(t.index)):\n",
    "            nbTemps = round(self.data[(self.data['object_id'] == t.index[i] )].groupby('actor').temps.sum().rename('NbTemp')/60,2)\n",
    "            nbScore = self.data[(self.data['object_id'] == t.index[i] )].groupby('actor').score.max().rename('NbScore')\n",
    "            d = pd.concat([nbTemps,nbScore],axis=1)\n",
    "            d = d.sort_values(by=['NbTemp'],ascending=False)\n",
    "            plt.plot(d.NbTemp,d.NbScore,label=t.index[i])\n",
    "            plt.legend()\n",
    "\n",
    "    def Graph_sub(self,t):\n",
    "        \n",
    "        \n",
    "        plt.figure(figsize=(15,10))\n",
    "        for i in range(len(t.index)):\n",
    "            nbScore = self.data[(self.data['object_id'] == t.index[i] )].groupby('actor').score.max().rename('NbScore')\n",
    "            d = pd.DataFrame({\"sco\":nbScore})\n",
    "            d = d.sort_values(by=['sco'],ascending=False)\n",
    "            \n",
    "            rang=list(range(1,len(d.sco)+1))\n",
    "            plt.subplot(len(t.index),1,i+1)\n",
    "            plt.plot(rang,d.sco,label=t.index[i])\n",
    "            plt.legend()\n",
    "            plt.xlabel('rang')\n",
    "            plt.ylabel('score')\n",
    "            \n",
    "            \n",
    "    def Graph_scat(self):\n",
    "        \n",
    "        nbTemps = round(self.data.groupby('object_id').temps.sum()/60,2)\n",
    "        d = pd.DataFrame({\"t\":nbTemps})\n",
    "        plt.figure(figsize=(15,10))\n",
    "        plt.scatter(d.index,d.t)\n",
    "        plt.xticks(rotation='vertical')\n",
    "        plt.xlabel('module')\n",
    "        plt.ylabel('temp')\n",
    "        \n",
    "        \n",
    "    def Graph_tart(self):\n",
    "        self.All_da()\n",
    "        classeA = (len(self.res[self.res['TauxReussite']>=80])/len(self.res))*100\n",
    "        classeB = (len(self.res.loc[(self.res['TauxReussite']>=60) & (self.res['TauxReussite']<80)])/len(self.res))*100\n",
    "        classeC = (len(self.res.loc[(self.res['TauxReussite']>=50) & (self.res['TauxReussite']<60)])/len(self.res))*100\n",
    "        classeD = (len(self.res.loc[(self.res['TauxReussite']<50)])/len(self.res))*100\n",
    "        c = [classeA,classeB,classeC,classeD]\n",
    "        lb = ['classeA','classeB','classeC','classeD']\n",
    "        plt.pie(c, labels = lb,autopct='%1.2f%%')\n",
    "\n",
    "\n"
   ]
  },
  {
   "cell_type": "code",
   "execution_count": 1,
   "id": "73106af8",
   "metadata": {
    "scrolled": false
   },
   "outputs": [
    {
     "ename": "NameError",
     "evalue": "name 'Tpoo' is not defined",
     "output_type": "error",
     "traceback": [
      "\u001b[1;31m---------------------------------------------------------------------------\u001b[0m",
      "\u001b[1;31mNameError\u001b[0m                                 Traceback (most recent call last)",
      "\u001b[1;32m~\\AppData\\Local\\Temp\\ipykernel_2356\\3605881428.py\u001b[0m in \u001b[0;36m<module>\u001b[1;34m\u001b[0m\n\u001b[1;32m----> 1\u001b[1;33m \u001b[0md\u001b[0m\u001b[1;33m=\u001b[0m\u001b[0mTpoo\u001b[0m\u001b[1;33m(\u001b[0m\u001b[1;34m'scorm_tracking.csv'\u001b[0m\u001b[1;33m)\u001b[0m\u001b[1;33m\u001b[0m\u001b[1;33m\u001b[0m\u001b[0m\n\u001b[0m\u001b[0;32m      2\u001b[0m \u001b[0mc\u001b[0m \u001b[1;33m=\u001b[0m \u001b[0md\u001b[0m\u001b[1;33m.\u001b[0m\u001b[0mTop_mod\u001b[0m\u001b[1;33m(\u001b[0m\u001b[1;36m3\u001b[0m\u001b[1;33m)\u001b[0m\u001b[1;33m\u001b[0m\u001b[1;33m\u001b[0m\u001b[0m\n\u001b[0;32m      3\u001b[0m \u001b[0mt1\u001b[0m\u001b[1;33m=\u001b[0m \u001b[0md\u001b[0m\u001b[1;33m.\u001b[0m\u001b[0mTo_nump\u001b[0m\u001b[1;33m(\u001b[0m\u001b[0mc\u001b[0m\u001b[1;33m)\u001b[0m\u001b[1;33m\u001b[0m\u001b[1;33m\u001b[0m\u001b[0m\n\u001b[0;32m      4\u001b[0m \u001b[0md\u001b[0m\u001b[1;33m.\u001b[0m\u001b[0mMod_aff\u001b[0m\u001b[1;33m(\u001b[0m\u001b[0mc\u001b[0m\u001b[1;33m,\u001b[0m\u001b[1;33m-\u001b[0m\u001b[1;36m1\u001b[0m\u001b[1;33m)\u001b[0m\u001b[1;33m\u001b[0m\u001b[1;33m\u001b[0m\u001b[0m\n\u001b[0;32m      5\u001b[0m \u001b[0md\u001b[0m\u001b[1;33m.\u001b[0m\u001b[0mGraph_tart\u001b[0m\u001b[1;33m(\u001b[0m\u001b[1;33m)\u001b[0m\u001b[1;33m\u001b[0m\u001b[1;33m\u001b[0m\u001b[0m\n",
      "\u001b[1;31mNameError\u001b[0m: name 'Tpoo' is not defined"
     ]
    }
   ],
   "source": [
    "d=Tpoo('scorm_tracking.csv')\n",
    "c = d.Top_mod(3)\n",
    "t1= d.To_nump(c)\n",
    "d.Mod_aff(c,-1)\n",
    "d.Graph_tart()"
   ]
  },
  {
   "cell_type": "code",
   "execution_count": null,
   "id": "5342cad2",
   "metadata": {},
   "outputs": [],
   "source": []
  },
  {
   "cell_type": "code",
   "execution_count": null,
   "id": "36583f45",
   "metadata": {},
   "outputs": [],
   "source": []
  },
  {
   "cell_type": "code",
   "execution_count": null,
   "id": "8ec7728e",
   "metadata": {},
   "outputs": [],
   "source": []
  },
  {
   "cell_type": "code",
   "execution_count": null,
   "id": "ceb5b76c",
   "metadata": {},
   "outputs": [],
   "source": []
  }
 ],
 "metadata": {
  "kernelspec": {
   "display_name": "Python 3 (ipykernel)",
   "language": "python",
   "name": "python3"
  },
  "language_info": {
   "codemirror_mode": {
    "name": "ipython",
    "version": 3
   },
   "file_extension": ".py",
   "mimetype": "text/x-python",
   "name": "python",
   "nbconvert_exporter": "python",
   "pygments_lexer": "ipython3",
   "version": "3.9.13"
  },
  "vscode": {
   "interpreter": {
    "hash": "69f54465d39086b3646a5efebd18d1f8bbdcb830840560a232a3205b638fbd24"
   }
  }
 },
 "nbformat": 4,
 "nbformat_minor": 5
}
