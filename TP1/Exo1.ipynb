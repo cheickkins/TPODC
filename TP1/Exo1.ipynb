{
 "cells": [
  {
   "cell_type": "markdown",
   "id": "2a495190",
   "metadata": {},
   "source": [
    "## Version procedurale"
   ]
  },
  {
   "cell_type": "code",
   "execution_count": 64,
   "id": "263b06f5",
   "metadata": {},
   "outputs": [],
   "source": [
    "import math"
   ]
  },
  {
   "cell_type": "code",
   "execution_count": 65,
   "id": "f9762d64",
   "metadata": {},
   "outputs": [],
   "source": [
    "def f(x) :\n",
    "    return x/(x**2+1)"
   ]
  },
  {
   "cell_type": "code",
   "execution_count": 66,
   "id": "99a8a903",
   "metadata": {},
   "outputs": [],
   "source": [
    "def g(x) :\n",
    "    return math.atan(x)\n"
   ]
  },
  {
   "cell_type": "code",
   "execution_count": 67,
   "id": "7fea8851",
   "metadata": {},
   "outputs": [],
   "source": [
    "#N = int(input (\" Entrer la valeur de N = \"))\n",
    "#L = [-N, -(N-1), -(N-2),..., 0, 1, 2,..., N]\n",
    "\n",
    "def  liste(N):\n",
    "    try:      \n",
    "        if N>0:       \n",
    "            return list(range(-N,N+1))\n",
    "        else:\n",
    "            print(\"La valeur donnee n'est pas un entier naturel\")\n",
    "    except TypeError:\n",
    "        print(\"La valeur donnee n'est pas un entier naturel\")\n"
   ]
  },
  {
   "cell_type": "code",
   "execution_count": 68,
   "id": "542ffef6",
   "metadata": {},
   "outputs": [],
   "source": [
    "def calculR(N):\n",
    "    return sum([(f(x)-g(x))**2 for x in liste(N)])\n",
    "    "
   ]
  },
  {
   "cell_type": "code",
   "execution_count": 69,
   "id": "13ca5196",
   "metadata": {},
   "outputs": [
    {
     "data": {
      "text/plain": [
       "25.46294811355041"
      ]
     },
     "execution_count": 69,
     "metadata": {},
     "output_type": "execute_result"
    }
   ],
   "source": [
    "calculR(10)"
   ]
  },
  {
   "cell_type": "code",
   "execution_count": null,
   "id": "a64236a6",
   "metadata": {},
   "outputs": [],
   "source": []
  },
  {
   "cell_type": "markdown",
   "id": "a6ad5e0c",
   "metadata": {},
   "source": [
    "## Version Oriente Objet"
   ]
  },
  {
   "cell_type": "code",
   "execution_count": 126,
   "id": "beb40262",
   "metadata": {},
   "outputs": [],
   "source": [
    "class Operateur :\n",
    "    def __init__(self, n) :\n",
    "        self.n=n\n",
    "        \n",
    "    def  liste(self):\n",
    "        try:      \n",
    "            if self.n>0:       \n",
    "                return list(range(-self.n,self.n+1))\n",
    "            else:\n",
    "                print(\"La valeur donnee n'est pas un entier naturel\")\n",
    "        except TypeError:\n",
    "            print(\"La valeur donnee n'est pas un entier naturel\")\n",
    "\n",
    "    \n",
    "    def calculR(self):\n",
    "        return sum([(self.f(x)-self.g(x))**2 for x in liste(self.n)])\n",
    "\n",
    "    def f(self,x) :\n",
    "        return x/(x**2+1)\n",
    "    def g(self,x) :\n",
    "        return math.atan(x)\n",
    "        \n",
    "       \n",
    "        \n",
    "    \n"
   ]
  },
  {
   "cell_type": "code",
   "execution_count": 129,
   "id": "3ae84759",
   "metadata": {},
   "outputs": [],
   "source": [
    "op1=Operateur(7)"
   ]
  },
  {
   "cell_type": "code",
   "execution_count": 130,
   "id": "bed62ee8",
   "metadata": {},
   "outputs": [
    {
     "data": {
      "text/plain": [
       "14.547878490027445"
      ]
     },
     "execution_count": 130,
     "metadata": {},
     "output_type": "execute_result"
    }
   ],
   "source": [
    "op1.calculR()"
   ]
  },
  {
   "cell_type": "code",
   "execution_count": null,
   "id": "5175fad7",
   "metadata": {},
   "outputs": [],
   "source": []
  },
  {
   "cell_type": "code",
   "execution_count": null,
   "id": "4cb956f3",
   "metadata": {},
   "outputs": [],
   "source": []
  }
 ],
 "metadata": {
  "kernelspec": {
   "display_name": "Python 3 (ipykernel)",
   "language": "python",
   "name": "python3"
  },
  "language_info": {
   "codemirror_mode": {
    "name": "ipython",
    "version": 3
   },
   "file_extension": ".py",
   "mimetype": "text/x-python",
   "name": "python",
   "nbconvert_exporter": "python",
   "pygments_lexer": "ipython3",
   "version": "3.9.13"
  }
 },
 "nbformat": 4,
 "nbformat_minor": 5
}
