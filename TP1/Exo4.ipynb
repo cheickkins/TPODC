{
 "cells": [
  {
   "cell_type": "code",
   "execution_count": 48,
   "id": "47138e07",
   "metadata": {},
   "outputs": [],
   "source": [
    "import random\n"
   ]
  },
  {
   "cell_type": "markdown",
   "id": "65c947b6",
   "metadata": {},
   "source": [
    "## Generation avec randint"
   ]
  },
  {
   "cell_type": "code",
   "execution_count": 49,
   "id": "527157e9",
   "metadata": {},
   "outputs": [],
   "source": [
    "l = [random.randint(0,100) for i in range(5)]"
   ]
  },
  {
   "cell_type": "markdown",
   "id": "1f0d9f5e",
   "metadata": {},
   "source": [
    "## Generation avec randrange"
   ]
  },
  {
   "cell_type": "code",
   "execution_count": 50,
   "id": "e5a8f5ab",
   "metadata": {},
   "outputs": [],
   "source": [
    " l= [random.randrange(0,100) for i in range(50)]"
   ]
  },
  {
   "cell_type": "markdown",
   "id": "7672850a",
   "metadata": {},
   "source": [
    "## Generation avec randsample"
   ]
  },
  {
   "cell_type": "code",
   "execution_count": 51,
   "id": "7febee03",
   "metadata": {},
   "outputs": [],
   "source": [
    "lUtilise = random.sample(range(1,500), 100)"
   ]
  },
  {
   "cell_type": "markdown",
   "id": "84d79b6e",
   "metadata": {},
   "source": [
    "## Moyenne "
   ]
  },
  {
   "cell_type": "code",
   "execution_count": 60,
   "id": "6e439fac",
   "metadata": {},
   "outputs": [],
   "source": [
    "def average(liste):\n",
    "    return sum(liste)/len(liste)"
   ]
  },
  {
   "cell_type": "code",
   "execution_count": 61,
   "id": "64f842a9",
   "metadata": {},
   "outputs": [
    {
     "data": {
      "text/plain": [
       "275.12"
      ]
     },
     "execution_count": 61,
     "metadata": {},
     "output_type": "execute_result"
    }
   ],
   "source": [
    "average(lUtilise)"
   ]
  },
  {
   "cell_type": "markdown",
   "id": "2117ab38",
   "metadata": {},
   "source": [
    "## Mediane"
   ]
  },
  {
   "cell_type": "code",
   "execution_count": 62,
   "id": "5bd4e1bd",
   "metadata": {},
   "outputs": [
    {
     "name": "stdout",
     "output_type": "stream",
     "text": [
      "Median is: 271.5\n"
     ]
    }
   ],
   "source": [
    "n = len(lUtilise)\n",
    "lUtilise.sort()\n",
    "  \n",
    "if n % 2 == 0:\n",
    "    median1 = lUtilise[n//2]\n",
    "    median2 = lUtilise[n//2 - 1]\n",
    "    median = (median1 + median2)/2\n",
    "else:\n",
    "    median = lUtilise[n//2]\n",
    "print(\"Median is: \" + str(median))"
   ]
  },
  {
   "cell_type": "markdown",
   "id": "56e9fca3",
   "metadata": {},
   "source": [
    "## Variance"
   ]
  },
  {
   "cell_type": "markdown",
   "id": "13e77c84",
   "metadata": {},
   "source": [
    "## Avec Numpy"
   ]
  },
  {
   "cell_type": "code",
   "execution_count": 55,
   "id": "626d172c",
   "metadata": {},
   "outputs": [
    {
     "name": "stdout",
     "output_type": "stream",
     "text": [
      "16431.225599999994\n"
     ]
    }
   ],
   "source": [
    "import numpy as np\n",
    "print(np.var(lUtilise))"
   ]
  },
  {
   "cell_type": "markdown",
   "id": "be5bd67e",
   "metadata": {},
   "source": [
    "##  calculate variance using a list comprehension"
   ]
  },
  {
   "cell_type": "code",
   "execution_count": 56,
   "id": "a10d0086",
   "metadata": {},
   "outputs": [],
   "source": [
    "m = sum(lUtilise) / len(lUtilise)\n",
    "\n",
    "# calculate variance using a list comprehension\n",
    "var_res = sum((xi - m) ** 2 for xi in lUtilise) / len(lUtilise)"
   ]
  },
  {
   "cell_type": "code",
   "execution_count": 57,
   "id": "93dc4ea6",
   "metadata": {},
   "outputs": [
    {
     "data": {
      "text/plain": [
       "16431.2256"
      ]
     },
     "execution_count": 57,
     "metadata": {},
     "output_type": "execute_result"
    }
   ],
   "source": [
    "var_res"
   ]
  },
  {
   "cell_type": "markdown",
   "id": "983020a7",
   "metadata": {},
   "source": [
    "## Ecart type"
   ]
  },
  {
   "cell_type": "code",
   "execution_count": 58,
   "id": "b08b4467",
   "metadata": {},
   "outputs": [
    {
     "name": "stdout",
     "output_type": "stream",
     "text": [
      "128.18434225754717\n"
     ]
    }
   ],
   "source": [
    "print(np.std(lUtilise))"
   ]
  },
  {
   "cell_type": "code",
   "execution_count": null,
   "id": "847ed4e2",
   "metadata": {},
   "outputs": [],
   "source": []
  },
  {
   "cell_type": "code",
   "execution_count": null,
   "id": "d9f70aaf",
   "metadata": {},
   "outputs": [],
   "source": []
  }
 ],
 "metadata": {
  "kernelspec": {
   "display_name": "Python 3.10.8 64-bit (microsoft store)",
   "language": "python",
   "name": "python3"
  },
  "language_info": {
   "codemirror_mode": {
    "name": "ipython",
    "version": 3
   },
   "file_extension": ".py",
   "mimetype": "text/x-python",
   "name": "python",
   "nbconvert_exporter": "python",
   "pygments_lexer": "ipython3",
   "version": "3.10.8"
  },
  "vscode": {
   "interpreter": {
    "hash": "69f54465d39086b3646a5efebd18d1f8bbdcb830840560a232a3205b638fbd24"
   }
  }
 },
 "nbformat": 4,
 "nbformat_minor": 5
}
