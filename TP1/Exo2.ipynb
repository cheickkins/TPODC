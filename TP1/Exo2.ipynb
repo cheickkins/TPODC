{
 "cells": [
  {
   "cell_type": "code",
   "execution_count": 2,
   "id": "f2e60618",
   "metadata": {},
   "outputs": [],
   "source": [
    "import random\n",
    "import math"
   ]
  },
  {
   "cell_type": "markdown",
   "id": "69c769a9",
   "metadata": {},
   "source": [
    "## Creation de la liste aleatoire"
   ]
  },
  {
   "cell_type": "code",
   "execution_count": 33,
   "id": "c63da468",
   "metadata": {},
   "outputs": [],
   "source": [
    "class DataTrans :\n",
    "    def __init__(self,n,s):\n",
    "        self.n=n\n",
    "        self.s=s\n",
    "    def list_composee(self) :\n",
    "        liste=[]\n",
    "        for i in range(self.n) :\n",
    "            elt_list=random.sample(range(1,20), self.s)\n",
    "            liste.append(elt_list)\n",
    "        return liste\n",
    "    def mi_mx(self) :\n",
    "        lis=self.list_composee() \n",
    "        mx=[]\n",
    "        mn=[]\n",
    "        for i in lis:    \n",
    "            mi=i[0]\n",
    "            ma=i[0]\n",
    "            for j in range(len(i)) :\n",
    "                if i[j]>ma :\n",
    "                    ma=i[j]\n",
    "                if i[j]<mi :\n",
    "                    mi=i[j]\n",
    "            mx.append(ma)\n",
    "            mn.append(mi)\n",
    "        print(\"la liste D est :\",lis)\n",
    "        print(\"liste des maximums :\",mx)\n",
    "        print(\"liste des minimums:\",mn)\n",
    "        print(\"le maximum global est :\",max(mx))\n",
    "        print(\"le minimum global est :\",min(mn))\n",
    "        \n",
    "    def f(self, x):\n",
    "            return x**3+3*(x**2)-5\n",
    "    \n",
    "    def img(self):\n",
    "        lis=self.list_composee()\n",
    "        liste=[]\n",
    "        lit=[]\n",
    "        for i in lis:\n",
    "            for j in range(len(i)) :\n",
    "                lit.append(self.f(i[j]))\n",
    "            liste.append(lit)\n",
    "        print(\"La liste est : \",lis)\n",
    "        print(\"L'image de la liste est :\", liste)\n",
    "            \n",
    "                \n",
    "            \n",
    "        \n",
    "        \n",
    "        \n",
    "        \n",
    "        \n",
    "        "
   ]
  },
  {
   "cell_type": "code",
   "execution_count": 34,
   "id": "119dfd0b",
   "metadata": {},
   "outputs": [],
   "source": [
    "data1=DataTrans(3, 3)"
   ]
  },
  {
   "cell_type": "code",
   "execution_count": 35,
   "id": "0a6e8fd4",
   "metadata": {},
   "outputs": [
    {
     "data": {
      "text/plain": [
       "[[19, 10, 14], [16, 7, 6], [8, 11, 4]]"
      ]
     },
     "execution_count": 35,
     "metadata": {},
     "output_type": "execute_result"
    }
   ],
   "source": [
    "data1.list_composee() "
   ]
  },
  {
   "cell_type": "code",
   "execution_count": 36,
   "id": "f9a84e54",
   "metadata": {},
   "outputs": [
    {
     "name": "stdout",
     "output_type": "stream",
     "text": [
      "la liste D est : [[16, 11, 15], [2, 5, 3], [18, 15, 11]]\n",
      "liste des maximums : [16, 5, 18]\n",
      "liste des minimums: [11, 2, 11]\n",
      "le maximum global est : 18\n",
      "le minimum global est : 2\n"
     ]
    }
   ],
   "source": [
    "data1.mi_mx()"
   ]
  },
  {
   "cell_type": "code",
   "execution_count": 37,
   "id": "9ef234c1",
   "metadata": {},
   "outputs": [
    {
     "name": "stdout",
     "output_type": "stream",
     "text": [
      "La liste est :  [[10, 2, 18], [2, 8, 13], [8, 13, 7]]\n",
      "L'image de la liste est : [[1295, 15, 6799, 15, 699, 2699, 699, 2699, 485], [1295, 15, 6799, 15, 699, 2699, 699, 2699, 485], [1295, 15, 6799, 15, 699, 2699, 699, 2699, 485]]\n"
     ]
    }
   ],
   "source": [
    "data1.img()"
   ]
  },
  {
   "cell_type": "code",
   "execution_count": null,
   "id": "79f2197f",
   "metadata": {},
   "outputs": [],
   "source": []
  }
 ],
 "metadata": {
  "kernelspec": {
   "display_name": "Python 3 (ipykernel)",
   "language": "python",
   "name": "python3"
  },
  "language_info": {
   "codemirror_mode": {
    "name": "ipython",
    "version": 3
   },
   "file_extension": ".py",
   "mimetype": "text/x-python",
   "name": "python",
   "nbconvert_exporter": "python",
   "pygments_lexer": "ipython3",
   "version": "3.9.13"
  }
 },
 "nbformat": 4,
 "nbformat_minor": 5
}
